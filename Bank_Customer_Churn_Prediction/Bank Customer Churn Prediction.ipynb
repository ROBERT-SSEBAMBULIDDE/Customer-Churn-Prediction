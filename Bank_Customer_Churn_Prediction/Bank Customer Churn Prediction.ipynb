{
  "cells": [
    {
      "cell_type": "markdown",
      "metadata": {
        "is_collapsed": false,
        "formattedRanges": [],
        "deepnote_app_block_visible": false,
        "cell_id": "307e6eb047c94cb3b565771e69b5b8ab",
        "deepnote_cell_type": "text-cell-h1"
      },
      "source": "# Introduction",
      "block_group": "4fd85778ea9a4ef2b64536e9adb1b2b4"
    },
    {
      "cell_type": "markdown",
      "metadata": {
        "formattedRanges": [],
        "cell_id": "6f3b266bbb7c49498a36ed90f5819fc5",
        "deepnote_cell_type": "text-cell-p"
      },
      "source": "Customer churn is a critical issue for banks and financial institutions. It refers to the phenomenon where customers stop using a bank's services, leading to a loss of revenue and potentially harming the bank's reputation. Predicting customer churn is essential for banks to take proactive measures to retain customers and improve their services.",
      "block_group": "2f46e2ad28c749f59e9da6421ba6f7e1"
    },
    {
      "cell_type": "markdown",
      "metadata": {
        "formattedRanges": [],
        "cell_id": "8cc640e663cc45f0b7d1a659aa00c9a9",
        "deepnote_cell_type": "text-cell-p"
      },
      "source": "In this project, we aim to build a predictive model to identify customers who are likely to churn. By analyzing various features such as customer demographics, account information, and transaction history, we can gain insights into the factors that contribute to churn and develop strategies to mitigate it.",
      "block_group": "252249bb16db45f89cf0286cfcf989c9"
    },
    {
      "cell_type": "markdown",
      "metadata": {
        "formattedRanges": [],
        "cell_id": "dcf7c9c9a78241a9a01738138bd0652e",
        "deepnote_cell_type": "text-cell-p"
      },
      "source": "The project involves the following steps:\r\n1. Data Collection: Gather data on bank customers, including their demographics, account details, and transaction history.\r\n2. Data Preprocessing: Clean and preprocess the data to handle missing values, outliers, and categorical variables.\r\n3. Exploratory Data Analysis (EDA): Perform EDA to understand the distribution of data, identify patterns, and visualize relationships between features.\r\n4. Feature Engineering: Create new features or transform existing ones to improve the predictive power of the model.\r\n5. Model Building: Train various machine learning models to predict customer churn and evaluate their performance.\r\n6. Model Evaluation: Assess the models using appropriate metrics and select the best-performing model.\r\n7. Deployment: Deploy the model to a production environment where it can be used to make  predictions.",
      "block_group": "39019b7646d04f7a9ee6fdde8f09b3bc"
    },
    {
      "cell_type": "markdown",
      "metadata": {
        "formattedRanges": [],
        "cell_id": "6cebfabcf81c43d7a263332f517a5de9",
        "deepnote_cell_type": "text-cell-p"
      },
      "source": "8.Dashboard: Creation of dashboard visual with matplotlib to give more insights on the prediction made by the model",
      "block_group": "d3f65942ce544bc5b1ca3c52f6f5e6ac"
    },
    {
      "cell_type": "markdown",
      "metadata": {
        "formattedRanges": [],
        "cell_id": "a1723ab9912341018f954f5182552573",
        "deepnote_cell_type": "text-cell-h2"
      },
      "source": "## Problem Statement ",
      "block_group": "65cf5c79787944e5b761c3aba4be70e7"
    },
    {
      "cell_type": "markdown",
      "metadata": {
        "formattedRanges": [],
        "cell_id": "f9ebc16c85a34dab99e5ee2ba9746c06",
        "deepnote_cell_type": "text-cell-p"
      },
      "source": "Customer churn is a significant challenge for banks and financial institutions. Churn occurs when customers stop using a bank's services, leading to a loss of revenue and potentially damaging the bank's reputation. Understanding and predicting customer churn is crucial for banks to take proactive measures to retain customers and enhance their services.",
      "block_group": "5e15461deb514bfc8d0f20aa43cd3089"
    },
    {
      "cell_type": "markdown",
      "metadata": {
        "formattedRanges": [],
        "cell_id": "cf25a70463944e5d99d64e276f08f309",
        "deepnote_cell_type": "text-cell-p"
      },
      "source": "The objective of this project is to develop a predictive model that can identify customers who are likely to churn. By analyzing various features such as customer demographics, account information, and transaction history, we aim to gain insights into the factors contributing to churn and develop strategies to mitigate it.",
      "block_group": "20b5c5ce579847a99887759238071d6b"
    },
    {
      "cell_type": "markdown",
      "metadata": {
        "formattedRanges": [],
        "cell_id": "8cb5db8aad0f448484fdefc13d40b7c0",
        "deepnote_cell_type": "text-cell-p"
      },
      "source": "Key questions to address:\r\n1. What are the primary factors that influence customer churn in the banking sector?\r\n2. How can we accurately predict which customers are at risk of churning?\r\n3. What strategies can be implemented to reduce customer churn based on the model's predictions?",
      "block_group": "fa6f59ae856f4fbe9db6290625f5ce13"
    },
    {
      "cell_type": "markdown",
      "metadata": {
        "formattedRanges": [],
        "cell_id": "f423907efce04630a332308a2e2ba48f",
        "deepnote_cell_type": "text-cell-h2"
      },
      "source": "## Requirements",
      "block_group": "d2c1a5cc5f6449ae8bc42a24da676197"
    },
    {
      "cell_type": "markdown",
      "metadata": {
        "formattedRanges": [],
        "cell_id": "bf47c6f50d6c4eff93a0c2c4bdb85797",
        "deepnote_cell_type": "text-cell-p"
      },
      "source": "1. pandas - for data manipulation and analysis.\r\n2. numpy - for numerical operations.\r\n3. seaborn - for data visualization.\r\n4. matplotlib - for plotting graphs.\r\n5. scikit-learn - for machine learning models and evaluation metrics.\r\n6. imblearn - for handling imbalanced datasets using SMOTE.\r\n7. joblib - for saving and loading models.",
      "block_group": "8f1d7302570b45efb271a614cbe4374f"
    },
    {
      "cell_type": "markdown",
      "metadata": {
        "formattedRanges": [],
        "cell_id": "9f9c47f2de8a40fa833e3850d97a804d",
        "deepnote_cell_type": "text-cell-h2"
      },
      "source": "## Achievements",
      "block_group": "2a5edc5246d345ed852fd2b73e978faf"
    },
    {
      "cell_type": "markdown",
      "metadata": {
        "formattedRanges": [],
        "cell_id": "d605f48069b34b1c86bbdd213943302c",
        "deepnote_cell_type": "text-cell-p"
      },
      "source": "Data Preprocessing:\r\nSuccessfully handled missing values, outliers, and performed feature engineering to create new features such as Balance_to_Salary_Ratio and Age_to_Tenure_Ratio.\r\nApplied one-hot encoding to categorical variables to prepare the data for model training.",
      "block_group": "05b47bf84bc4471795ea11f786ad61c5"
    },
    {
      "cell_type": "markdown",
      "metadata": {
        "formattedRanges": [],
        "cell_id": "e948adbe7c2346c389d00421f18f2f1b",
        "deepnote_cell_type": "text-cell-p"
      },
      "source": "Balancing the Dataset:\r\n Utilized SMOTE (Synthetic Minority Over-sampling Technique) to balance the training dataset, addressing the issue of class imbalance and improving model perfor",
      "block_group": "24ae98947c484479944c71e36066dd24"
    },
    {
      "cell_type": "markdown",
      "metadata": {
        "formattedRanges": [],
        "cell_id": "d602a7aa0d3f4c52a61f30890428912d",
        "deepnote_cell_type": "text-cell-p"
      },
      "source": "Model Deployment:\r\n  Saved the trained Random Forest model using joblib, making it ready for deployment in a production environment.\r\n  Provided a detailed analysis of the new customer data, including predictions and customer segmentation.",
      "block_group": "0d82d9e4964d4f29ad7eb0f8faba2481"
    },
    {
      "cell_type": "markdown",
      "metadata": {
        "formattedRanges": [],
        "cell_id": "14164a9ee940419295bedd33c3ddb0aa",
        "deepnote_cell_type": "text-cell-h2"
      },
      "source": "## Data Exploration and Preparation",
      "block_group": "1da734852a70416a80b2d23155c717c5"
    },
    {
      "cell_type": "markdown",
      "metadata": {
        "formattedRanges": [],
        "cell_id": "d47a0573048248d4b2f6b613bf6f0e37",
        "deepnote_cell_type": "text-cell-h3"
      },
      "source": "### Connecting Stoarge",
      "block_group": "f47334e43e1b4a7c9bf443ed3d817ebc"
    },
    {
      "cell_type": "code",
      "metadata": {
        "source_hash": "7bfa6874",
        "execution_start": 1745043583362,
        "execution_millis": 387,
        "execution_context_id": "a6512630-4938-4c98-8a73-515da24d51f2",
        "cell_id": "67dcfc2de01e43d5a0aa289f5a6e3650",
        "deepnote_cell_type": "code"
      },
      "source": "!ls /datasets/samadrive",
      "block_group": "d47a66c6369e41a4ba734108290f048d",
      "execution_count": 1,
      "outputs": [],
      "outputs_reference": null,
      "content_dependencies": null
    },
    {
      "cell_type": "code",
      "metadata": {
        "source_hash": "c30f4cc3",
        "execution_start": 1745043583807,
        "execution_millis": 926,
        "execution_context_id": "a6512630-4938-4c98-8a73-515da24d51f2",
        "cell_id": "483014ca57114d6e9538918a0c048f63",
        "deepnote_cell_type": "code"
      },
      "source": "import pandas as pd\ndata=pd.read_csv(\"/datasets/samadrive/Resources/Data Analysis Projects/Bank Customer Churn/\\\nCustomer-Churn-Records.csv\")",
      "block_group": "7d844d5d44cd403786986e93136e2b29",
      "execution_count": 2,
      "outputs": [],
      "outputs_reference": null,
      "content_dependencies": null
    },
    {
      "cell_type": "markdown",
      "source": "<a style='text-decoration:none;line-height:16px;display:flex;color:#5B5B62;padding:10px;justify-content:end;' href='https://deepnote.com?utm_source=created-in-deepnote-cell&projectId=9cfdede1-ec5a-4ccb-b9d7-b824d140113f' target=\"_blank\">\n<img alt='Created in deepnote.com' style='display:inline;max-height:16px;margin:0px;margin-right:7.5px;' src='data:image/svg+xml;base64,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' > </img>\nCreated in <span style='font-weight:600;margin-left:4px;'>Deepnote</span></a>",
      "metadata": {
        "created_in_deepnote_cell": true,
        "deepnote_cell_type": "markdown"
      }
    }
  ],
  "nbformat": 4,
  "nbformat_minor": 0,
  "metadata": {
    "deepnote_notebook_id": "1a8de174cbce4d1b8486e436947c3792"
  }
}